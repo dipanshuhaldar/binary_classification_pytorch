{
  "nbformat": 4,
  "nbformat_minor": 0,
  "metadata": {
    "colab": {
      "name": "pytorch_mlp_binary_classification.ipynb",
      "provenance": [],
      "collapsed_sections": [],
      "authorship_tag": "ABX9TyPMSjlACifAMAGrin0tJ88D",
      "include_colab_link": true
    },
    "kernelspec": {
      "name": "python3",
      "display_name": "Python 3"
    }
  },
  "cells": [
    {
      "cell_type": "markdown",
      "metadata": {
        "id": "view-in-github",
        "colab_type": "text"
      },
      "source": [
        "<a href=\"https://colab.research.google.com/github/dipanshuhaldar/binary_classification_pytorch/blob/master/pytorch_mlp_binary_classification.ipynb\" target=\"_parent\"><img src=\"https://colab.research.google.com/assets/colab-badge.svg\" alt=\"Open In Colab\"/></a>"
      ]
    },
    {
      "cell_type": "markdown",
      "metadata": {
        "id": "xHj1s7te_WyR",
        "colab_type": "text"
      },
      "source": [
        "* We will use the [**Ionosphere binary (two class) classification dataset**](https://archive.ics.uci.edu/ml/machine-learning-databases/ionosphere/) to demonstrate an MLP for binary classification.\n",
        "* This dataset involves predicting whether there is a structure in the atmosphere or not given radar returns."
      ]
    },
    {
      "cell_type": "code",
      "metadata": {
        "id": "W8IzHxfDa2rn",
        "colab_type": "code",
        "colab": {
          "base_uri": "https://localhost:8080/",
          "height": 126
        },
        "outputId": "bb1b0d72-c63f-40f1-c6e5-c277d5b1228b"
      },
      "source": [
        "'''\n",
        "set working directory\n",
        "look in the files in the working directory\n",
        "'''\n",
        "#mounting google drive\n",
        "from google.colab import drive\n",
        "drive.mount('/content/drive')"
      ],
      "execution_count": 2,
      "outputs": [
        {
          "output_type": "stream",
          "text": [
            "Go to this URL in a browser: https://accounts.google.com/o/oauth2/auth?client_id=947318989803-6bn6qk8qdgf4n4g3pfee6491hc0brc4i.apps.googleusercontent.com&redirect_uri=urn%3aietf%3awg%3aoauth%3a2.0%3aoob&response_type=code&scope=email%20https%3a%2f%2fwww.googleapis.com%2fauth%2fdocs.test%20https%3a%2f%2fwww.googleapis.com%2fauth%2fdrive%20https%3a%2f%2fwww.googleapis.com%2fauth%2fdrive.photos.readonly%20https%3a%2f%2fwww.googleapis.com%2fauth%2fpeopleapi.readonly\n",
            "\n",
            "Enter your authorization code:\n",
            "··········\n",
            "Mounted at /content/drive\n"
          ],
          "name": "stdout"
        }
      ]
    },
    {
      "cell_type": "code",
      "metadata": {
        "id": "e8vpCK2ea3jb",
        "colab_type": "code",
        "colab": {
          "base_uri": "https://localhost:8080/",
          "height": 35
        },
        "outputId": "0de922c2-3a9f-40fe-abaf-ec4fc8f653e5"
      },
      "source": [
        "import os\n",
        "os.chdir('/content/drive/My Drive/ionosphere')\n",
        "os.listdir('/content/drive/My Drive/ionosphere')"
      ],
      "execution_count": 3,
      "outputs": [
        {
          "output_type": "execute_result",
          "data": {
            "text/plain": [
              "['Ionosphere.csv', 'pytorch_mlp_binary_classification.ipynb']"
            ]
          },
          "metadata": {
            "tags": []
          },
          "execution_count": 3
        }
      ]
    },
    {
      "cell_type": "code",
      "metadata": {
        "id": "qanYU5f-_Kbc",
        "colab_type": "code",
        "colab": {}
      },
      "source": [
        "#requirements\n",
        "from numpy import vstack\n",
        "from pandas import read_csv\n",
        "from sklearn.preprocessing import LabelEncoder\n",
        "from sklearn.metrics import accuracy_score "
      ],
      "execution_count": 0,
      "outputs": []
    },
    {
      "cell_type": "code",
      "metadata": {
        "id": "uPMxvhR2HQBl",
        "colab_type": "code",
        "colab": {}
      },
      "source": [
        "#requirements(PyTorch)\n",
        "from torch.utils.data import Dataset\n",
        "from torch.utils.data import DataLoader\n",
        "from torch.utils.data import random_split\n",
        "from torch import Tensor\n",
        "from torch.nn import Linear\n",
        "from torch.nn import ReLU\n",
        "from torch.nn import Sigmoid\n",
        "from torch.nn import Module\n",
        "from torch.optim import SGD\n",
        "from torch.nn import BCELoss\n",
        "from torch.nn.init import kaiming_uniform_\n",
        "from torch.nn.init import xavier_uniform_"
      ],
      "execution_count": 0,
      "outputs": []
    },
    {
      "cell_type": "code",
      "metadata": {
        "id": "hGAx7Pbwl0Zx",
        "colab_type": "code",
        "colab": {}
      },
      "source": [
        "#df = read_csv('Ionosphere.csv')\n",
        "#df.head()\n",
        "#X = df.values[:, df.columns != 'Class']\n",
        "#X[0:2, :]"
      ],
      "execution_count": 0,
      "outputs": []
    },
    {
      "cell_type": "markdown",
      "metadata": {
        "id": "6FzisFsUI5PG",
        "colab_type": "text"
      },
      "source": [
        "**Loading and Data Preparation**"
      ]
    },
    {
      "cell_type": "code",
      "metadata": {
        "id": "ZAzlHmYGIlbz",
        "colab_type": "code",
        "colab": {}
      },
      "source": [
        "#dataset definition\n",
        "class CSVDataset(Dataset):\n",
        "  #load the data set\n",
        "  def __init__(self, path):\n",
        "\n",
        "    #load the csvfile as a dataframe\n",
        "    df = read_csv(path)\n",
        "    #store the features and the target\n",
        "    self.X = df.values[:, df.columns != 'Class']#desection on column name, here Class\n",
        "    self.y = df.values[;, 'Class']#selection based on column name, here Class\n",
        "    #ensure input data is floats\n",
        "    self.X = self.X.astype('float32')\n",
        "    #label encode target and ensure the values are floats\n",
        "    self.y = LabelEncoder().fit_transform(self.y)\n",
        "    self.y = self.y.astype('float32')\n",
        "    self.y = self.y.reshape(len(self.y), 1)\n",
        "\n",
        "    #number of rows in the dataset\n",
        "    def __len__(self):\n",
        "      return len(self.X)\n",
        "\n",
        "    #get a row by index\n",
        "    def __getitem__(self, idx):\n",
        "      return [self.X[idx], self.y[idx]]\n",
        "\n",
        "    #get indexes for train and test rows\n",
        "        "
      ],
      "execution_count": 0,
      "outputs": []
    },
    {
      "cell_type": "code",
      "metadata": {
        "id": "-K2_J-0hl-7o",
        "colab_type": "code",
        "colab": {}
      },
      "source": [
        ""
      ],
      "execution_count": 0,
      "outputs": []
    },
    {
      "cell_type": "code",
      "metadata": {
        "id": "D-5--6-xnCEy",
        "colab_type": "code",
        "colab": {}
      },
      "source": [
        ""
      ],
      "execution_count": 0,
      "outputs": []
    }
  ]
}